{
 "cells": [
  {
   "cell_type": "code",
   "execution_count": 1,
   "metadata": {},
   "outputs": [
    {
     "name": "stdout",
     "output_type": "stream",
     "text": [
      "2401\n"
     ]
    }
   ],
   "source": [
    "#squarinf a number\n",
    "a = 7\n",
    "print(a**4)\n"
   ]
  },
  {
   "cell_type": "code",
   "execution_count": 2,
   "metadata": {},
   "outputs": [
    {
     "name": "stdout",
     "output_type": "stream",
     "text": [
      "['hi', 'there', 'sam!']\n",
      "['hi', 'there', 'sam!']\n",
      "['acsec', 'sdcds.csd']\n"
     ]
    }
   ],
   "source": [
    "#spiltting \n",
    "s = \"hi there sam!\"\n",
    "list1 = s.split()\n",
    "print(list1)\n",
    "print(s.split())\n",
    "\n",
    "email = \"acsec@sdcds.csd\"\n",
    "print(email.split(\"@\"))\n"
   ]
  },
  {
   "cell_type": "code",
   "execution_count": 3,
   "metadata": {},
   "outputs": [
    {
     "name": "stdout",
     "output_type": "stream",
     "text": [
      "the diameter of earth is earth 12742 km\n"
     ]
    }
   ],
   "source": [
    "#Indexing\n",
    "planet = \"earth\"\n",
    "diameter = 12742\n",
    "print(\"the diameter of {0} is earth {1} km\" .format(planet, diameter))\n"
   ]
  },
  {
   "cell_type": "code",
   "execution_count": 4,
   "metadata": {},
   "outputs": [
    {
     "name": "stdout",
     "output_type": "stream",
     "text": [
      "hello\n"
     ]
    }
   ],
   "source": [
    "#List\n",
    "lst = [1,2,[3,4], [5,[100,200,['hello']],23,11],1,7]\n",
    "grab = lst[3][1][2][0]\n",
    "print(grab)"
   ]
  },
  {
   "cell_type": "code",
   "execution_count": 5,
   "metadata": {},
   "outputs": [
    {
     "name": "stdout",
     "output_type": "stream",
     "text": [
      "hello\n"
     ]
    }
   ],
   "source": [
    "#Dictionary\n",
    "d = {'k1':[1,2,3,{'tricky': ['oh', 'man', 'inception', {'target' : [1,2,3,'hello']}]}]}\n",
    "print(d['k1'][3]['tricky'][3]['target'][3])"
   ]
  },
  {
   "cell_type": "code",
   "execution_count": 6,
   "metadata": {},
   "outputs": [
    {
     "ename": "ValueError",
     "evalue": "invalid literal for int() with base 10: ''",
     "output_type": "error",
     "traceback": [
      "\u001b[1;31m---------------------------------------------------------------------------\u001b[0m",
      "\u001b[1;31mValueError\u001b[0m                                Traceback (most recent call last)",
      "Cell \u001b[1;32mIn[6], line 5\u001b[0m\n\u001b[0;32m      1\u001b[0m \u001b[38;5;66;03m#. Write a program to input roll no, student name, marks of physics, chemistry and maths out of 100. (0-100).Calculate total,\u001b[39;00m\n\u001b[0;32m      2\u001b[0m \u001b[38;5;66;03m#  percentage, calculate STATUS (pass, fail) if students scores above 40 in all the 3 subjects the STATUS should be pass otherwise\u001b[39;00m\n\u001b[0;32m      3\u001b[0m \u001b[38;5;66;03m#  fail. Calculate GRADE if STATUS is pass.\u001b[39;00m\n\u001b[1;32m----> 5\u001b[0m Roll_no \u001b[38;5;241m=\u001b[39m \u001b[38;5;28;43mint\u001b[39;49m\u001b[43m(\u001b[49m\u001b[38;5;28;43minput\u001b[39;49m\u001b[43m(\u001b[49m\u001b[38;5;124;43m\"\u001b[39;49m\u001b[38;5;124;43mRoll no : \u001b[39;49m\u001b[38;5;124;43m\"\u001b[39;49m\u001b[43m)\u001b[49m\u001b[43m)\u001b[49m\n\u001b[0;32m      6\u001b[0m student_name \u001b[38;5;241m=\u001b[39m \u001b[38;5;28minput\u001b[39m(\u001b[38;5;124m\"\u001b[39m\u001b[38;5;124mname : \u001b[39m\u001b[38;5;124m\"\u001b[39m)\n\u001b[0;32m      7\u001b[0m Marks_Of_Physics \u001b[38;5;241m=\u001b[39m \u001b[38;5;28mint\u001b[39m(\u001b[38;5;28minput\u001b[39m(\u001b[38;5;124m\"\u001b[39m\u001b[38;5;124mMarks Of Physics : \u001b[39m\u001b[38;5;124m\"\u001b[39m))\n",
      "\u001b[1;31mValueError\u001b[0m: invalid literal for int() with base 10: ''"
     ]
    }
   ],
   "source": [
    "#. Write a program to input roll no, student name, marks of physics, chemistry and maths out of 100. (0-100).Calculate total,\n",
    "#  percentage, calculate STATUS (pass, fail) if students scores above 40 in all the 3 subjects the STATUS should be pass otherwise\n",
    "#  fail. Calculate GRADE if STATUS is pass.\n",
    "\n",
    "Roll_no = int(input(\"Roll no : \"))\n",
    "student_name = input(\"name : \")\n",
    "Marks_Of_Physics = int(input(\"Marks Of Physics : \"))\n",
    "Marks_Of_Chemistry = int(input(\"Marks Of Chemistry : \"))\n",
    "Marks_Of_Maths = int(input(\"Marks Of Maths : \"))\n",
    "\n",
    "print(\"Roll No. : \", Roll_no)\n",
    "print(\"Student Name : \", student_name)\n",
    "print(\"Marks in Physics : \", Marks_Of_Physics)\n",
    "print(\"Marks in Chemistry : \", Marks_Of_Chemistry)\n",
    "print(\"Marks in Maths : \", Marks_Of_Maths)\n",
    "\n",
    "\n",
    "total = Marks_Of_Physics + Marks_Of_Chemistry + Marks_Of_Maths\n",
    "percentage = total / 3\n",
    "\n",
    "def grade():\n",
    "    if(total>70 ):\n",
    "        print(\"Grade : Distinction\")\n",
    "    elif(total<40):\n",
    "        print(\"Grade : Fail\")\n",
    "    elif(total>60):\n",
    "        print(\"Grade : First Class\")\n",
    "    elif(total>50):\n",
    "        print(\"Grade : Second Class\")\n",
    "    elif(total>40):\n",
    "        print(\"Grade : Pass\")\n",
    "grade()\n",
    "\n",
    "if(Marks_Of_Chemistry >40) and (Marks_Of_Physics>40)  and (Marks_Of_Maths>40):\n",
    "    print(\"Status: Pass\")\n",
    "else :\n",
    "    print(\"Fail\")\n"
   ]
  },
  {
   "cell_type": "code",
   "execution_count": null,
   "metadata": {},
   "outputs": [],
   "source": [
    "email = input(\"Enter Email : \")\n",
    "name = input(\"Name : \")\n",
    "Basic_salary = int(input(\"Salary : \"))\n",
    "experience = int(input(\"Years of experince : \"))\n",
    "hra = Basic_salary*.035\n",
    "da = Basic_salary*.58\n",
    "pf = Basic_salary*0.095\n",
    "a = 0\n",
    "\n",
    "print(\"Name : \", name)\n",
    "print(\"Email : \", email)\n",
    "print(\"Basic Salary : \", Basic_salary)\n",
    "print(\"HRA : \", hra)\n",
    "print(\"DA : \", da)\n",
    "print(\"PF : \", pf)\n",
    "\n",
    "if (experience >= 30):\n",
    "    a = 0.59\n",
    "    print(\"Bonus : \", Basic_salary+(Basic_salary*a))\n",
    "elif (experience>= 23):\n",
    "    a = 0.51\n",
    "    print(\"Bonus : \", Basic_salary+(Basic_salary*a))\n",
    "elif (experience>= 15):\n",
    "    a = 0.45\n",
    "    print(\"Bonus : \", Basic_salary+(Basic_salary*a))\n",
    "elif (experience >= 7):\n",
    "    a = 0.33\n",
    "    print(\"Bonus : \", Basic_salary+(Basic_salary*a))\n",
    "elif (experience<7):\n",
    "    a = 0.16\n",
    "    print(\"Bonus : \", Basic_salary+(Basic_salary*a))\n",
    "\n"
   ]
  },
  {
   "cell_type": "code",
   "execution_count": 44,
   "metadata": {},
   "outputs": [
    {
     "name": "stdout",
     "output_type": "stream",
     "text": [
      "fees is  550\n"
     ]
    }
   ],
   "source": []
  },
  {
   "cell_type": "code",
   "execution_count": null,
   "metadata": {},
   "outputs": [],
   "source": []
  },
  {
   "cell_type": "code",
   "execution_count": null,
   "metadata": {},
   "outputs": [],
   "source": []
  }
 ],
 "metadata": {
  "kernelspec": {
   "display_name": "Python 3",
   "language": "python",
   "name": "python3"
  },
  "language_info": {
   "codemirror_mode": {
    "name": "ipython",
    "version": 3
   },
   "file_extension": ".py",
   "mimetype": "text/x-python",
   "name": "python",
   "nbconvert_exporter": "python",
   "pygments_lexer": "ipython3",
   "version": "3.11.9"
  }
 },
 "nbformat": 4,
 "nbformat_minor": 2
}
